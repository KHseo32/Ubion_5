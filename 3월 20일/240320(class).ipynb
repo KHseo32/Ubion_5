{
 "cells": [
  {
   "cell_type": "code",
   "execution_count": 2,
   "metadata": {},
   "outputs": [],
   "source": [
    "## class 생성 --> 해당 클래스에 내장되어 있는 생성자 함수 호출\n",
    "a_class = Test_Class(10, 'test')"
   ]
  },
  {
   "cell_type": "code",
   "execution_count": 3,
   "metadata": {},
   "outputs": [
    {
     "name": "stdout",
     "output_type": "stream",
     "text": [
      "<__main__.Test_Class object at 0x00000248C09B22A0>\n",
      "10\n",
      "test\n"
     ]
    }
   ],
   "source": [
    "## a_class 안에 있는 a라는 변수와 b라는 변수를 호출\n",
    "print(a_class)\n",
    "print(a_class.a)\n",
    "print(a_class.b)"
   ]
  },
  {
   "cell_type": "code",
   "execution_count": 4,
   "metadata": {},
   "outputs": [],
   "source": [
    "b_class = Test_Class(30, 3.14)"
   ]
  },
  {
   "cell_type": "code",
   "execution_count": 5,
   "metadata": {},
   "outputs": [
    {
     "name": "stdout",
     "output_type": "stream",
     "text": [
      "<__main__.Test_Class object at 0x00000248C0A4E300>\n",
      "30\n",
      "3.14\n"
     ]
    }
   ],
   "source": [
    "print(b_class)\n",
    "print(b_class.a)\n",
    "print(b_class.b)"
   ]
  },
  {
   "cell_type": "code",
   "execution_count": 35,
   "metadata": {},
   "outputs": [],
   "source": [
    "class Calculate:\n",
    "    def __init__(self, input_x, input_y):\n",
    "        self.x = input_x\n",
    "        self.y = input_y\n",
    "\n",
    "    # 두 개의 self.x와 self.y의 합을 반환하는 함수\n",
    "    def add(self):\n",
    "        result = self.x + self.y\n",
    "        return result\n",
    "\n",
    "    # 두 개의 self.x와 self.y의 차를 반환하는 함수\n",
    "    def subtract(self):\n",
    "        result = self.x - self.y\n",
    "        return result"
   ]
  },
  {
   "cell_type": "code",
   "execution_count": 36,
   "metadata": {},
   "outputs": [],
   "source": [
    "# c_class라는 공간에 x라는 변수를 생성하여 10을 대입하고\n",
    "# y라는 변수를 생성하여 5라는 데이터를 대입\n",
    "c_class = Calculate(10,5)\n",
    "d_class = Calculate(20,9)"
   ]
  },
  {
   "cell_type": "code",
   "execution_count": 37,
   "metadata": {},
   "outputs": [
    {
     "name": "stdout",
     "output_type": "stream",
     "text": [
      "10\n",
      "20\n"
     ]
    }
   ],
   "source": [
    "print(c_class.x)\n",
    "print(d_class.x)"
   ]
  },
  {
   "cell_type": "code",
   "execution_count": 38,
   "metadata": {},
   "outputs": [
    {
     "name": "stdout",
     "output_type": "stream",
     "text": [
      "15\n"
     ]
    }
   ],
   "source": [
    "# c_class 안에 있는 add() 함수를 호출\n",
    "# add() : 자기 자신안에 있는 x와 y를 더해서 결과를 되돌려준다.\n",
    "#         self.x -> 10, self.y -> 5\n",
    "print(c_class.add())"
   ]
  },
  {
   "cell_type": "code",
   "execution_count": 39,
   "metadata": {},
   "outputs": [
    {
     "name": "stdout",
     "output_type": "stream",
     "text": [
      "29\n"
     ]
    }
   ],
   "source": [
    "# d_class 안에 있는 add() 함수를 호출\n",
    "# self.x -> 20, self.y -> 9\n",
    "print(d_class.add())"
   ]
  },
  {
   "cell_type": "code",
   "execution_count": 40,
   "metadata": {},
   "outputs": [
    {
     "name": "stdout",
     "output_type": "stream",
     "text": [
      "5\n",
      "11\n"
     ]
    }
   ],
   "source": [
    "print(c_class.subtract())\n",
    "print(d_class.subtract())"
   ]
  }
 ],
 "metadata": {
  "kernelspec": {
   "display_name": "Python 3",
   "language": "python",
   "name": "python3"
  },
  "language_info": {
   "codemirror_mode": {
    "name": "ipython",
    "version": 3
   },
   "file_extension": ".py",
   "mimetype": "text/x-python",
   "name": "python",
   "nbconvert_exporter": "python",
   "pygments_lexer": "ipython3",
   "version": "3.12.2"
  }
 },
 "nbformat": 4,
 "nbformat_minor": 2
}
