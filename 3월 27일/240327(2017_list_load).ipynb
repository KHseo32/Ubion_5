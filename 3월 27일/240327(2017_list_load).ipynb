{
 "cells": [
  {
   "cell_type": "markdown",
   "metadata": {},
   "source": [
    "## 특정 경로에 있는 파일의 목록 로드\n",
    "1. ㅇ리"
   ]
  },
  {
   "cell_type": "code",
   "execution_count": 52,
   "metadata": {},
   "outputs": [],
   "source": [
    "import os\n",
    "import glob\n",
    "import pandas as pd"
   ]
  },
  {
   "cell_type": "code",
   "execution_count": 53,
   "metadata": {},
   "outputs": [
    {
     "data": {
      "text/plain": [
       "['201701_expense_list.csv',\n",
       " '201702_expense_list.csv',\n",
       " '201703_expense_list.csv',\n",
       " '201704_expense_list.csv',\n",
       " '201705_expense_list.csv',\n",
       " '201706_expense_list.csv',\n",
       " '201707_expense_list.csv',\n",
       " '201708_expense_list.csv',\n",
       " '201709_expense_list.csv',\n",
       " '201710_expense_list.csv',\n",
       " '201711_expense_list.csv',\n",
       " '201712_expense_list.csv']"
      ]
     },
     "execution_count": 53,
     "metadata": {},
     "output_type": "execute_result"
    }
   ],
   "source": [
    "# os 라이브러리 이용\n",
    "os.listdir('../../../../바탕 화면/Data/csv/2017')"
   ]
  },
  {
   "cell_type": "code",
   "execution_count": 54,
   "metadata": {},
   "outputs": [],
   "source": [
    "# 파일 목록 로드 경로 변수 저장\n",
    "\n",
    "file_path = '../../../../바탕 화면/Data/csv/2017/'\n",
    "file_list = os.listdir('../../../../바탕 화면/Data/csv/2017')\n",
    "# file_list"
   ]
  },
  {
   "cell_type": "code",
   "execution_count": 55,
   "metadata": {},
   "outputs": [],
   "source": [
    "\n",
    "result_2017 = pd.DataFrame()\n",
    "\n"
   ]
  },
  {
   "cell_type": "code",
   "execution_count": 56,
   "metadata": {},
   "outputs": [],
   "source": [
    "for file in file_list:\n",
    "    df = pd.read_csv(file_path+file)\n",
    "    result_2017 = pd.concat([result_2017,df], axis=0, ignore_index=True)"
   ]
  },
  {
   "cell_type": "code",
   "execution_count": 57,
   "metadata": {},
   "outputs": [],
   "source": [
    "file_path2 = '../../../../바탕 화면/Data/csv/2019/'\n",
    "file_list2 = os.listdir('../../../../바탕 화면/Data/csv/2019')"
   ]
  },
  {
   "cell_type": "code",
   "execution_count": 58,
   "metadata": {},
   "outputs": [],
   "source": [
    "result_2019 = pd.DataFrame()"
   ]
  },
  {
   "cell_type": "code",
   "execution_count": 59,
   "metadata": {},
   "outputs": [],
   "source": [
    "for file in file_list2:\n",
    "    df2 = pd.read_json(file_path2+file)\n",
    "    result_2019 = pd.concat([result_2019,df2], axis=0, ignore_index=True)"
   ]
  },
  {
   "cell_type": "code",
   "execution_count": 60,
   "metadata": {},
   "outputs": [],
   "source": [
    "file_path3 = '../../../../바탕 화면/Data/csv/2020/'\n",
    "file_list3 = os.listdir('../../../../바탕 화면/Data/csv/2020')"
   ]
  },
  {
   "cell_type": "code",
   "execution_count": 61,
   "metadata": {},
   "outputs": [],
   "source": [
    "result_2020 = pd.DataFrame()"
   ]
  },
  {
   "cell_type": "code",
   "execution_count": 62,
   "metadata": {},
   "outputs": [],
   "source": [
    "for file in file_list3:\n",
    "    df3 = pd.read_excel(file_path3+file)\n",
    "    result_2020 = pd.concat([result_2020,df3], axis=0, ignore_index=True)"
   ]
  },
  {
   "cell_type": "code",
   "execution_count": 63,
   "metadata": {},
   "outputs": [],
   "source": [
    "file_path4 = '../../../../바탕 화면/Data/csv/2021/'\n",
    "file_list4 = os.listdir('../../../../바탕 화면/Data/csv/2021')"
   ]
  },
  {
   "cell_type": "code",
   "execution_count": 64,
   "metadata": {},
   "outputs": [],
   "source": [
    "result_2021 = pd.DataFrame()"
   ]
  },
  {
   "cell_type": "code",
   "execution_count": 65,
   "metadata": {},
   "outputs": [
    {
     "name": "stdout",
     "output_type": "stream",
     "text": [
      "Requirement already satisfied: lxml in c:\\users\\서덕일\\appdata\\local\\programs\\python\\python312\\lib\\site-packages (5.1.0)\n",
      "Note: you may need to restart the kernel to use updated packages.\n"
     ]
    }
   ],
   "source": [
    "pip install lxml"
   ]
  },
  {
   "cell_type": "code",
   "execution_count": 66,
   "metadata": {},
   "outputs": [],
   "source": [
    "import lxml"
   ]
  },
  {
   "cell_type": "code",
   "execution_count": 67,
   "metadata": {},
   "outputs": [],
   "source": [
    "for file in file_list4:\n",
    "    if file.endswith('.xlsx'):\n",
    "        df = pd.read_excel(file_path4+file)\n",
    "        result_2021 = pd.concat([result_2021,df], axis=0, ignore_index=True)\n",
    "    elif file.endswith('.csv'):\n",
    "        df = pd.read_csv(file_path4+file)\n",
    "        result_2021 = pd.concat([result_2021,df], axis=0, ignore_index=True)\n",
    "    elif file.endswith('.json'):\n",
    "        df = pd.read_json(file_path4+file)\n",
    "        result_2021 = pd.concat([result_2021,df], axis=0, ignore_index=True)\n",
    "    elif file.endswith('.xml'):\n",
    "        df = pd.read_xml(file_path4+file)\n",
    "        result_2021 = pd.concat([result_2021,df], axis=0, ignore_index=True)\n",
    "          \n"
   ]
  },
  {
   "cell_type": "code",
   "execution_count": 68,
   "metadata": {},
   "outputs": [
    {
     "name": "stdout",
     "output_type": "stream",
     "text": [
      "<class 'pandas.core.frame.DataFrame'>\n",
      "RangeIndex: 335276 entries, 0 to 335275\n",
      "Data columns (total 21 columns):\n",
      " #   Column             Non-Null Count   Dtype  \n",
      "---  ------             --------------   -----  \n",
      " 0   nid                335276 non-null  int64  \n",
      " 1   title              335276 non-null  object \n",
      " 2   url                335276 non-null  object \n",
      " 3   dept_nm_lvl_1      335276 non-null  object \n",
      " 4   dept_nm_lvl_2      335276 non-null  object \n",
      " 5   dept_nm_lvl_3      287609 non-null  object \n",
      " 6   dept_nm_lvl_4      158312 non-null  object \n",
      " 7   dept_nm_lvl_5      88238 non-null   object \n",
      " 8   exec_yr            335276 non-null  int64  \n",
      " 9   exec_month         335276 non-null  int64  \n",
      " 10  expense_budget     242096 non-null  float64\n",
      " 11  expense_execution  242096 non-null  float64\n",
      " 12  category           86759 non-null   object \n",
      " 13  dept_nm_full       335276 non-null  object \n",
      " 14  exec_dt            335276 non-null  object \n",
      " 15  exec_loc           333374 non-null  object \n",
      " 16  exec_purpose       335276 non-null  object \n",
      " 17  target_nm          334220 non-null  object \n",
      " 18  payment_method     335276 non-null  object \n",
      " 19  exec_amount        335276 non-null  int64  \n",
      " 20  bimok              74692 non-null   object \n",
      "dtypes: float64(2), int64(4), object(15)\n",
      "memory usage: 53.7+ MB\n"
     ]
    }
   ],
   "source": [
    "result_2021.info()"
   ]
  },
  {
   "cell_type": "code",
   "execution_count": 69,
   "metadata": {},
   "outputs": [
    {
     "data": {
      "text/plain": [
       "'csv'"
      ]
     },
     "execution_count": 69,
     "metadata": {},
     "output_type": "execute_result"
    }
   ],
   "source": [
    "file_list4[0].split('.')[-1]"
   ]
  },
  {
   "cell_type": "code",
   "execution_count": 70,
   "metadata": {},
   "outputs": [],
   "source": [
    "file_name, file_end = os.path.splitext(file_list4[0])"
   ]
  },
  {
   "cell_type": "code",
   "execution_count": 71,
   "metadata": {},
   "outputs": [],
   "source": [
    "result2_2021 = pd.DataFrame()\n",
    "\n",
    "## 확장자 선택 후 해당 확장자만 result2_2021에 결합\n",
    "for file in file_list4:\n",
    "    if file.split('.')[-1] in ['xlsx', 'xls']:\n",
    "        df = pd.read_excel(file_path4+file)\n",
    "        result2_2021 = pd.concat([result2_2021,df], axis=0, ignore_index=True)"
   ]
  },
  {
   "cell_type": "code",
   "execution_count": 72,
   "metadata": {},
   "outputs": [
    {
     "name": "stdout",
     "output_type": "stream",
     "text": [
      "<class 'pandas.core.frame.DataFrame'>\n",
      "RangeIndex: 83819 entries, 0 to 83818\n",
      "Data columns (total 21 columns):\n",
      " #   Column             Non-Null Count  Dtype  \n",
      "---  ------             --------------  -----  \n",
      " 0   nid                83819 non-null  int64  \n",
      " 1   title              83819 non-null  object \n",
      " 2   url                83819 non-null  object \n",
      " 3   dept_nm_lvl_1      83819 non-null  object \n",
      " 4   dept_nm_lvl_2      83819 non-null  object \n",
      " 5   dept_nm_lvl_3      67930 non-null  object \n",
      " 6   dept_nm_lvl_4      24831 non-null  object \n",
      " 7   dept_nm_lvl_5      1473 non-null   object \n",
      " 8   exec_yr            83819 non-null  int64  \n",
      " 9   exec_month         83819 non-null  int64  \n",
      " 10  expense_budget     60524 non-null  float64\n",
      " 11  expense_execution  60524 non-null  float64\n",
      " 12  category           980 non-null    object \n",
      " 13  dept_nm_full       83819 non-null  object \n",
      " 14  exec_dt            83819 non-null  object \n",
      " 15  exec_loc           83185 non-null  object \n",
      " 16  exec_purpose       83819 non-null  object \n",
      " 17  target_nm          83467 non-null  object \n",
      " 18  payment_method     83819 non-null  object \n",
      " 19  exec_amount        83819 non-null  int64  \n",
      " 20  bimok              18427 non-null  object \n",
      "dtypes: float64(2), int64(4), object(15)\n",
      "memory usage: 13.4+ MB\n"
     ]
    }
   ],
   "source": [
    "result2_2021.info()"
   ]
  },
  {
   "cell_type": "code",
   "execution_count": 73,
   "metadata": {},
   "outputs": [
    {
     "name": "stdout",
     "output_type": "stream",
     "text": [
      "10\n"
     ]
    }
   ],
   "source": [
    "globals()['a1'] = 10\n",
    "print(a1)"
   ]
  },
  {
   "cell_type": "code",
   "execution_count": 74,
   "metadata": {},
   "outputs": [],
   "source": [
    "## 2021 폴더에 있는 파일들을 각각 다른 변수에 저장\n",
    "file_path4 = '../../../../바탕 화면/Data/csv/2021/'\n",
    "file_list4 = os.listdir(file_path4)\n",
    "\n",
    "for file in file_list4:\n",
    "    name, end = os.path.splitext(file)\n",
    "    end=end[1:]\n",
    "    if end == 'csv':\n",
    "       df = pd.read_csv(file_path4+file) \n",
    "    elif end =='json':\n",
    "        df = pd.read_json(file_path4+file)   \n",
    "    elif end =='xml':\n",
    "        df = pd.read_xml(file_path4+file)\n",
    "    elif end in ['xlsx', 'xls']:\n",
    "        df = pd.read_excel(file_path4+file)        \n",
    "    else:\n",
    "        continue \n",
    "\n",
    "\n",
    "globals()[f\"{name}_{end}\"] = df.copy()\n"
   ]
  },
  {
   "cell_type": "code",
   "execution_count": 75,
   "metadata": {},
   "outputs": [
    {
     "name": "stdout",
     "output_type": "stream",
     "text": [
      "<class 'pandas.core.frame.DataFrame'>\n",
      "RangeIndex: 10344 entries, 0 to 10343\n",
      "Data columns (total 20 columns):\n",
      " #   Column             Non-Null Count  Dtype \n",
      "---  ------             --------------  ----- \n",
      " 0   nid                10344 non-null  int64 \n",
      " 1   title              10344 non-null  object\n",
      " 2   url                10344 non-null  object\n",
      " 3   dept_nm_lvl_1      10344 non-null  object\n",
      " 4   dept_nm_lvl_2      10344 non-null  object\n",
      " 5   dept_nm_lvl_3      8507 non-null   object\n",
      " 6   dept_nm_lvl_4      3184 non-null   object\n",
      " 7   dept_nm_lvl_5      177 non-null    object\n",
      " 8   exec_yr            10344 non-null  int64 \n",
      " 9   exec_month         10344 non-null  int64 \n",
      " 10  expense_budget     10344 non-null  int64 \n",
      " 11  expense_execution  10344 non-null  int64 \n",
      " 12  category           159 non-null    object\n",
      " 13  dept_nm_full       10344 non-null  object\n",
      " 14  exec_dt            10344 non-null  object\n",
      " 15  exec_loc           10284 non-null  object\n",
      " 16  exec_purpose       10344 non-null  object\n",
      " 17  target_nm          10282 non-null  object\n",
      " 18  payment_method     10344 non-null  object\n",
      " 19  exec_amount        10344 non-null  int64 \n",
      "dtypes: int64(6), object(14)\n",
      "memory usage: 1.6+ MB\n"
     ]
    }
   ],
   "source": [
    "globals()['202112_expense_list_xml'].info()"
   ]
  },
  {
   "cell_type": "code",
   "execution_count": 76,
   "metadata": {},
   "outputs": [],
   "source": [
    "# 지정된 경로에 파일들을 하나의 데이터 프레임으로 결합하여 되돌려주는 함수 생성\n",
    "# 매개 변수 -> 경로, 확장자명\n",
    "def data_load(_path,_end='csv'):\n",
    "    # _path : 파일 경로\n",
    "    # _end : 파일의 확장자명\n",
    "    file_list = os.listdir(_path)\n",
    "    result = pd.DataFrame()\n",
    "    _path = _path+'/'\n",
    "    for file in file_list:\n",
    "        # file <- 파일명\n",
    "        if file.endswith(_end):\n",
    "            if _end == 'csv':\n",
    "                df = pd.read_csv(_path + file)\n",
    "            elif _end == 'json':\n",
    "                df = pd.read_json(_path + file)\n",
    "            elif _end == 'xml':\n",
    "                df = pd.read_xml(_path + file)\n",
    "            elif _end in ['xlsx', 'xls'] :\n",
    "                df = pd.read_excel(_path + file)\n",
    "            else:\n",
    "                continue\n",
    "        result = pd.concat([result, df],\n",
    "                           axis=0, ignore_index=True)\n",
    "    return result"
   ]
  }
 ],
 "metadata": {
  "kernelspec": {
   "display_name": "Python 3",
   "language": "python",
   "name": "python3"
  },
  "language_info": {
   "codemirror_mode": {
    "name": "ipython",
    "version": 3
   },
   "file_extension": ".py",
   "mimetype": "text/x-python",
   "name": "python",
   "nbconvert_exporter": "python",
   "pygments_lexer": "ipython3",
   "version": "3.12.2"
  }
 },
 "nbformat": 4,
 "nbformat_minor": 2
}
