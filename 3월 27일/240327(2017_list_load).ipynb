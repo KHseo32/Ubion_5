{
 "cells": [
  {
   "cell_type": "markdown",
   "metadata": {},
   "source": [
    "## 특정 경로에 있는 파일의 목록 로드\n",
    "1. ㅇ리"
   ]
  },
  {
   "cell_type": "code",
   "execution_count": 1,
   "metadata": {},
   "outputs": [],
   "source": [
    "import os\n",
    "import glob\n",
    "import pandas as pd"
   ]
  },
  {
   "cell_type": "code",
   "execution_count": 53,
   "metadata": {},
   "outputs": [
    {
     "data": {
      "text/plain": [
       "['201701_expense_list.csv',\n",
       " '201702_expense_list.csv',\n",
       " '201703_expense_list.csv',\n",
       " '201704_expense_list.csv',\n",
       " '201705_expense_list.csv',\n",
       " '201706_expense_list.csv',\n",
       " '201707_expense_list.csv',\n",
       " '201708_expense_list.csv',\n",
       " '201709_expense_list.csv',\n",
       " '201710_expense_list.csv',\n",
       " '201711_expense_list.csv',\n",
       " '201712_expense_list.csv']"
      ]
     },
     "execution_count": 53,
     "metadata": {},
     "output_type": "execute_result"
    }
   ],
   "source": [
    "# os 라이브러리 이용\n",
    "os.listdir('../../../../바탕 화면/Data/csv/2017')"
   ]
  },
  {
   "cell_type": "code",
   "execution_count": 54,
   "metadata": {},
   "outputs": [],
   "source": [
    "# 파일 목록 로드 경로 변수 저장\n",
    "\n",
    "file_path = '../../../../바탕 화면/Data/csv/2017/'\n",
    "file_list = os.listdir('../../../../바탕 화면/Data/csv/2017')\n",
    "# file_list"
   ]
  },
  {
   "cell_type": "code",
   "execution_count": 55,
   "metadata": {},
   "outputs": [],
   "source": [
    "\n",
    "result_2017 = pd.DataFrame()\n",
    "\n"
   ]
  },
  {
   "cell_type": "code",
   "execution_count": 56,
   "metadata": {},
   "outputs": [],
   "source": [
    "for file in file_list:\n",
    "    df = pd.read_csv(file_path+file)\n",
    "    result_2017 = pd.concat([result_2017,df], axis=0, ignore_index=True)"
   ]
  },
  {
   "cell_type": "code",
   "execution_count": 57,
   "metadata": {},
   "outputs": [],
   "source": [
    "file_path2 = '../../../../바탕 화면/Data/csv/2019/'\n",
    "file_list2 = os.listdir('../../../../바탕 화면/Data/csv/2019')"
   ]
  },
  {
   "cell_type": "code",
   "execution_count": 58,
   "metadata": {},
   "outputs": [],
   "source": [
    "result_2019 = pd.DataFrame()"
   ]
  },
  {
   "cell_type": "code",
   "execution_count": 59,
   "metadata": {},
   "outputs": [],
   "source": [
    "for file in file_list2:\n",
    "    df2 = pd.read_json(file_path2+file)\n",
    "    result_2019 = pd.concat([result_2019,df2], axis=0, ignore_index=True)"
   ]
  },
  {
   "cell_type": "code",
   "execution_count": 60,
   "metadata": {},
   "outputs": [],
   "source": [
    "file_path3 = '../../../../바탕 화면/Data/csv/2020/'\n",
    "file_list3 = os.listdir('../../../../바탕 화면/Data/csv/2020')"
   ]
  },
  {
   "cell_type": "code",
   "execution_count": 61,
   "metadata": {},
   "outputs": [],
   "source": [
    "result_2020 = pd.DataFrame()"
   ]
  },
  {
   "cell_type": "code",
   "execution_count": 62,
   "metadata": {},
   "outputs": [],
   "source": [
    "for file in file_list3:\n",
    "    df3 = pd.read_excel(file_path3+file)\n",
    "    result_2020 = pd.concat([result_2020,df3], axis=0, ignore_index=True)"
   ]
  },
  {
   "cell_type": "code",
   "execution_count": 63,
   "metadata": {},
   "outputs": [],
   "source": [
    "file_path4 = '../../../../바탕 화면/Data/csv/2021/'\n",
    "file_list4 = os.listdir('../../../../바탕 화면/Data/csv/2021')"
   ]
  },
  {
   "cell_type": "code",
   "execution_count": 64,
   "metadata": {},
   "outputs": [],
   "source": [
    "result_2021 = pd.DataFrame()"
   ]
  },
  {
   "cell_type": "code",
   "execution_count": 65,
   "metadata": {},
   "outputs": [
    {
     "name": "stdout",
     "output_type": "stream",
     "text": [
      "Requirement already satisfied: lxml in c:\\users\\서덕일\\appdata\\local\\programs\\python\\python312\\lib\\site-packages (5.1.0)\n",
      "Note: you may need to restart the kernel to use updated packages.\n"
     ]
    }
   ],
   "source": [
    "pip install lxml"
   ]
  },
  {
   "cell_type": "code",
   "execution_count": 66,
   "metadata": {},
   "outputs": [],
   "source": [
    "import lxml"
   ]
  },
  {
   "cell_type": "code",
   "execution_count": 67,
   "metadata": {},
   "outputs": [],
   "source": [
    "for file in file_list4:\n",
    "    if file.endswith('.xlsx'):\n",
    "        df = pd.read_excel(file_path4+file)\n",
    "        result_2021 = pd.concat([result_2021,df], axis=0, ignore_index=True)\n",
    "    elif file.endswith('.csv'):\n",
    "        df = pd.read_csv(file_path4+file)\n",
    "        result_2021 = pd.concat([result_2021,df], axis=0, ignore_index=True)\n",
    "    elif file.endswith('.json'):\n",
    "        df = pd.read_json(file_path4+file)\n",
    "        result_2021 = pd.concat([result_2021,df], axis=0, ignore_index=True)\n",
    "    elif file.endswith('.xml'):\n",
    "        df = pd.read_xml(file_path4+file)\n",
    "        result_2021 = pd.concat([result_2021,df], axis=0, ignore_index=True)\n",
    "          \n"
   ]
  },
  {
   "cell_type": "code",
   "execution_count": 68,
   "metadata": {},
   "outputs": [
    {
     "name": "stdout",
     "output_type": "stream",
     "text": [
      "<class 'pandas.core.frame.DataFrame'>\n",
      "RangeIndex: 335276 entries, 0 to 335275\n",
      "Data columns (total 21 columns):\n",
      " #   Column             Non-Null Count   Dtype  \n",
      "---  ------             --------------   -----  \n",
      " 0   nid                335276 non-null  int64  \n",
      " 1   title              335276 non-null  object \n",
      " 2   url                335276 non-null  object \n",
      " 3   dept_nm_lvl_1      335276 non-null  object \n",
      " 4   dept_nm_lvl_2      335276 non-null  object \n",
      " 5   dept_nm_lvl_3      287609 non-null  object \n",
      " 6   dept_nm_lvl_4      158312 non-null  object \n",
      " 7   dept_nm_lvl_5      88238 non-null   object \n",
      " 8   exec_yr            335276 non-null  int64  \n",
      " 9   exec_month         335276 non-null  int64  \n",
      " 10  expense_budget     242096 non-null  float64\n",
      " 11  expense_execution  242096 non-null  float64\n",
      " 12  category           86759 non-null   object \n",
      " 13  dept_nm_full       335276 non-null  object \n",
      " 14  exec_dt            335276 non-null  object \n",
      " 15  exec_loc           333374 non-null  object \n",
      " 16  exec_purpose       335276 non-null  object \n",
      " 17  target_nm          334220 non-null  object \n",
      " 18  payment_method     335276 non-null  object \n",
      " 19  exec_amount        335276 non-null  int64  \n",
      " 20  bimok              74692 non-null   object \n",
      "dtypes: float64(2), int64(4), object(15)\n",
      "memory usage: 53.7+ MB\n"
     ]
    }
   ],
   "source": [
    "result_2021.info()"
   ]
  },
  {
   "cell_type": "code",
   "execution_count": 69,
   "metadata": {},
   "outputs": [
    {
     "data": {
      "text/plain": [
       "'csv'"
      ]
     },
     "execution_count": 69,
     "metadata": {},
     "output_type": "execute_result"
    }
   ],
   "source": [
    "file_list4[0].split('.')[-1]"
   ]
  },
  {
   "cell_type": "code",
   "execution_count": 70,
   "metadata": {},
   "outputs": [],
   "source": [
    "file_name, file_end = os.path.splitext(file_list4[0])"
   ]
  },
  {
   "cell_type": "code",
   "execution_count": 71,
   "metadata": {},
   "outputs": [],
   "source": [
    "result2_2021 = pd.DataFrame()\n",
    "\n",
    "## 확장자 선택 후 해당 확장자만 result2_2021에 결합\n",
    "for file in file_list4:\n",
    "    if file.split('.')[-1] in ['xlsx', 'xls']:\n",
    "        df = pd.read_excel(file_path4+file)\n",
    "        result2_2021 = pd.concat([result2_2021,df], axis=0, ignore_index=True)"
   ]
  },
  {
   "cell_type": "code",
   "execution_count": 72,
   "metadata": {},
   "outputs": [
    {
     "name": "stdout",
     "output_type": "stream",
     "text": [
      "<class 'pandas.core.frame.DataFrame'>\n",
      "RangeIndex: 83819 entries, 0 to 83818\n",
      "Data columns (total 21 columns):\n",
      " #   Column             Non-Null Count  Dtype  \n",
      "---  ------             --------------  -----  \n",
      " 0   nid                83819 non-null  int64  \n",
      " 1   title              83819 non-null  object \n",
      " 2   url                83819 non-null  object \n",
      " 3   dept_nm_lvl_1      83819 non-null  object \n",
      " 4   dept_nm_lvl_2      83819 non-null  object \n",
      " 5   dept_nm_lvl_3      67930 non-null  object \n",
      " 6   dept_nm_lvl_4      24831 non-null  object \n",
      " 7   dept_nm_lvl_5      1473 non-null   object \n",
      " 8   exec_yr            83819 non-null  int64  \n",
      " 9   exec_month         83819 non-null  int64  \n",
      " 10  expense_budget     60524 non-null  float64\n",
      " 11  expense_execution  60524 non-null  float64\n",
      " 12  category           980 non-null    object \n",
      " 13  dept_nm_full       83819 non-null  object \n",
      " 14  exec_dt            83819 non-null  object \n",
      " 15  exec_loc           83185 non-null  object \n",
      " 16  exec_purpose       83819 non-null  object \n",
      " 17  target_nm          83467 non-null  object \n",
      " 18  payment_method     83819 non-null  object \n",
      " 19  exec_amount        83819 non-null  int64  \n",
      " 20  bimok              18427 non-null  object \n",
      "dtypes: float64(2), int64(4), object(15)\n",
      "memory usage: 13.4+ MB\n"
     ]
    }
   ],
   "source": [
    "result2_2021.info()"
   ]
  },
  {
   "cell_type": "code",
   "execution_count": 73,
   "metadata": {},
   "outputs": [
    {
     "name": "stdout",
     "output_type": "stream",
     "text": [
      "10\n"
     ]
    }
   ],
   "source": [
    "globals()['a1'] = 10\n",
    "print(a1)"
   ]
  },
  {
   "cell_type": "code",
   "execution_count": 74,
   "metadata": {},
   "outputs": [],
   "source": [
    "## 2021 폴더에 있는 파일들을 각각 다른 변수에 저장\n",
    "file_path4 = '../../../../바탕 화면/Data/csv/2021/'\n",
    "file_list4 = os.listdir(file_path4)\n",
    "\n",
    "for file in file_list4:\n",
    "    name, end = os.path.splitext(file)\n",
    "    end=end[1:]\n",
    "    if end == 'csv':\n",
    "       df = pd.read_csv(file_path4+file) \n",
    "    elif end =='json':\n",
    "        df = pd.read_json(file_path4+file)   \n",
    "    elif end =='xml':\n",
    "        df = pd.read_xml(file_path4+file)\n",
    "    elif end in ['xlsx', 'xls']:\n",
    "        df = pd.read_excel(file_path4+file)        \n",
    "    else:\n",
    "        continue \n",
    "\n",
    "\n",
    "globals()[f\"{name}_{end}\"] = df.copy()\n"
   ]
  },
  {
   "cell_type": "code",
   "execution_count": 75,
   "metadata": {},
   "outputs": [
    {
     "name": "stdout",
     "output_type": "stream",
     "text": [
      "<class 'pandas.core.frame.DataFrame'>\n",
      "RangeIndex: 10344 entries, 0 to 10343\n",
      "Data columns (total 20 columns):\n",
      " #   Column             Non-Null Count  Dtype \n",
      "---  ------             --------------  ----- \n",
      " 0   nid                10344 non-null  int64 \n",
      " 1   title              10344 non-null  object\n",
      " 2   url                10344 non-null  object\n",
      " 3   dept_nm_lvl_1      10344 non-null  object\n",
      " 4   dept_nm_lvl_2      10344 non-null  object\n",
      " 5   dept_nm_lvl_3      8507 non-null   object\n",
      " 6   dept_nm_lvl_4      3184 non-null   object\n",
      " 7   dept_nm_lvl_5      177 non-null    object\n",
      " 8   exec_yr            10344 non-null  int64 \n",
      " 9   exec_month         10344 non-null  int64 \n",
      " 10  expense_budget     10344 non-null  int64 \n",
      " 11  expense_execution  10344 non-null  int64 \n",
      " 12  category           159 non-null    object\n",
      " 13  dept_nm_full       10344 non-null  object\n",
      " 14  exec_dt            10344 non-null  object\n",
      " 15  exec_loc           10284 non-null  object\n",
      " 16  exec_purpose       10344 non-null  object\n",
      " 17  target_nm          10282 non-null  object\n",
      " 18  payment_method     10344 non-null  object\n",
      " 19  exec_amount        10344 non-null  int64 \n",
      "dtypes: int64(6), object(14)\n",
      "memory usage: 1.6+ MB\n"
     ]
    }
   ],
   "source": [
    "globals()['202112_expense_list_xml'].info()"
   ]
  },
  {
   "cell_type": "code",
   "execution_count": 76,
   "metadata": {},
   "outputs": [],
   "source": [
    "# 지정된 경로에 파일들을 하나의 데이터 프레임으로 결합하여 되돌려주는 함수 생성\n",
    "# 매개 변수 -> 경로, 확장자명\n",
    "def data_load(_path,_end='csv'):\n",
    "    # _path : 파일 경로\n",
    "    # _end : 파일의 확장자명\n",
    "    file_list = os.listdir(_path)\n",
    "    result = pd.DataFrame()\n",
    "    _path = _path+'/'\n",
    "    for file in file_list:\n",
    "        # file <- 파일명\n",
    "        if file.endswith(_end):\n",
    "            if _end == 'csv':\n",
    "                df = pd.read_csv(_path + file)\n",
    "            elif _end == 'json':\n",
    "                df = pd.read_json(_path + file)\n",
    "            elif _end == 'xml':\n",
    "                df = pd.read_xml(_path + file)\n",
    "            elif _end in ['xlsx', 'xls'] :\n",
    "                df = pd.read_excel(_path + file)\n",
    "            else:\n",
    "                continue\n",
    "        result = pd.concat([result, df],\n",
    "                           axis=0, ignore_index=True)\n",
    "    return result"
   ]
  },
  {
   "cell_type": "code",
   "execution_count": 2,
   "metadata": {},
   "outputs": [
    {
     "name": "stdout",
     "output_type": "stream",
     "text": [
      "['campaign_master.csv', 'class_master.csv', 'customer_master.csv', 'use_log.csv']\n",
      "['../../../../바탕 화면/Data/csv/num_3\\\\campaign_master.csv', '../../../../바탕 화면/Data/csv/num_3\\\\class_master.csv', '../../../../바탕 화면/Data/csv/num_3\\\\customer_master.csv', '../../../../바탕 화면/Data/csv/num_3\\\\use_log.csv']\n"
     ]
    }
   ],
   "source": [
    "## os 라이브러리 이용하여 파일 list\n",
    "print(\n",
    "    os.listdir('../../../../바탕 화면/Data/csv/num_3/')\n",
    ")\n",
    "print(\n",
    "    glob.glob('../../../../바탕 화면/Data/csv/num_3/*.*')     # /파일명.확장자(*=all)\n",
    ")"
   ]
  },
  {
   "cell_type": "code",
   "execution_count": null,
   "metadata": {},
   "outputs": [],
   "source": [
    "file_list5 = glob.glob('../../../../바탕 화면/Data/csv/num_3/*.csv')\n",
    "\n",
    "file_list5"
   ]
  },
  {
   "cell_type": "code",
   "execution_count": 7,
   "metadata": {},
   "outputs": [],
   "source": [
    "for file in file_list5:\n",
    "    # df = pd.read_csv(file)\n",
    "    folder, name = os.path.split(file)\n",
    "    head, tail = os.path.splitext(name)\n",
    "    globals()[f\"{head}\"]=pd.read_csv(file)\n"
   ]
  },
  {
   "cell_type": "code",
   "execution_count": null,
   "metadata": {},
   "outputs": [],
   "source": [
    "use_log"
   ]
  },
  {
   "cell_type": "code",
   "execution_count": null,
   "metadata": {},
   "outputs": [],
   "source": [
    "campaign_master"
   ]
  },
  {
   "cell_type": "code",
   "execution_count": 72,
   "metadata": {},
   "outputs": [],
   "source": [
    "def load_folder(folder):\n",
    "    file_list = glob.glob(folder + '/*.*') \n",
    "    for file in file_list:\n",
    "        folder_path, name = os.path.split(file)\n",
    "        head, tail = os.path.splitext(name)\n",
    "        if tail == '.csv':\n",
    "            df = pd.read_csv(file)\n",
    "        elif tail == '.json':\n",
    "            df = pd.read_json(file)\n",
    "        elif tail == '.xml':\n",
    "            df = pd.read_xml(file)\n",
    "        elif tail in ['.xlsx', '.xls']:\n",
    "            df = pd.read_excel(file)\n",
    "        else:\n",
    "            print(f\"지원되지 않는 확장자: {tail}\")\n",
    "            continue\n",
    "\n",
    "        globals()[f'\"{head}\"'] = df.copy()\n",
    "    print('Folder loaded')\n"
   ]
  },
  {
   "cell_type": "code",
   "execution_count": 73,
   "metadata": {},
   "outputs": [
    {
     "name": "stdout",
     "output_type": "stream",
     "text": [
      "Folder loaded\n"
     ]
    }
   ],
   "source": [
    "load_folder('../../../../바탕 화면/Data/csv/num_3')"
   ]
  },
  {
   "cell_type": "code",
   "execution_count": 74,
   "metadata": {},
   "outputs": [
    {
     "data": {
      "text/html": [
       "<div>\n",
       "<style scoped>\n",
       "    .dataframe tbody tr th:only-of-type {\n",
       "        vertical-align: middle;\n",
       "    }\n",
       "\n",
       "    .dataframe tbody tr th {\n",
       "        vertical-align: top;\n",
       "    }\n",
       "\n",
       "    .dataframe thead th {\n",
       "        text-align: right;\n",
       "    }\n",
       "</style>\n",
       "<table border=\"1\" class=\"dataframe\">\n",
       "  <thead>\n",
       "    <tr style=\"text-align: right;\">\n",
       "      <th></th>\n",
       "      <th>log_id</th>\n",
       "      <th>customer_id</th>\n",
       "      <th>usedate</th>\n",
       "    </tr>\n",
       "  </thead>\n",
       "  <tbody>\n",
       "    <tr>\n",
       "      <th>0</th>\n",
       "      <td>L00000049012330</td>\n",
       "      <td>AS009373</td>\n",
       "      <td>2018-04-01</td>\n",
       "    </tr>\n",
       "    <tr>\n",
       "      <th>1</th>\n",
       "      <td>L00000049012331</td>\n",
       "      <td>AS015315</td>\n",
       "      <td>2018-04-01</td>\n",
       "    </tr>\n",
       "    <tr>\n",
       "      <th>2</th>\n",
       "      <td>L00000049012332</td>\n",
       "      <td>AS040841</td>\n",
       "      <td>2018-04-01</td>\n",
       "    </tr>\n",
       "    <tr>\n",
       "      <th>3</th>\n",
       "      <td>L00000049012333</td>\n",
       "      <td>AS046594</td>\n",
       "      <td>2018-04-01</td>\n",
       "    </tr>\n",
       "    <tr>\n",
       "      <th>4</th>\n",
       "      <td>L00000049012334</td>\n",
       "      <td>AS073285</td>\n",
       "      <td>2018-04-01</td>\n",
       "    </tr>\n",
       "    <tr>\n",
       "      <th>...</th>\n",
       "      <td>...</td>\n",
       "      <td>...</td>\n",
       "      <td>...</td>\n",
       "    </tr>\n",
       "    <tr>\n",
       "      <th>197423</th>\n",
       "      <td>L00000049209753</td>\n",
       "      <td>TS977703</td>\n",
       "      <td>2019-03-31</td>\n",
       "    </tr>\n",
       "    <tr>\n",
       "      <th>197424</th>\n",
       "      <td>L00000049209754</td>\n",
       "      <td>TS979550</td>\n",
       "      <td>2019-03-31</td>\n",
       "    </tr>\n",
       "    <tr>\n",
       "      <th>197425</th>\n",
       "      <td>L00000049209755</td>\n",
       "      <td>TS995299</td>\n",
       "      <td>2019-03-31</td>\n",
       "    </tr>\n",
       "    <tr>\n",
       "      <th>197426</th>\n",
       "      <td>L00000049209756</td>\n",
       "      <td>TS995853</td>\n",
       "      <td>2019-03-31</td>\n",
       "    </tr>\n",
       "    <tr>\n",
       "      <th>197427</th>\n",
       "      <td>L00000049209757</td>\n",
       "      <td>TS999079</td>\n",
       "      <td>2019-03-31</td>\n",
       "    </tr>\n",
       "  </tbody>\n",
       "</table>\n",
       "<p>197428 rows × 3 columns</p>\n",
       "</div>"
      ],
      "text/plain": [
       "                 log_id customer_id     usedate\n",
       "0       L00000049012330    AS009373  2018-04-01\n",
       "1       L00000049012331    AS015315  2018-04-01\n",
       "2       L00000049012332    AS040841  2018-04-01\n",
       "3       L00000049012333    AS046594  2018-04-01\n",
       "4       L00000049012334    AS073285  2018-04-01\n",
       "...                 ...         ...         ...\n",
       "197423  L00000049209753    TS977703  2019-03-31\n",
       "197424  L00000049209754    TS979550  2019-03-31\n",
       "197425  L00000049209755    TS995299  2019-03-31\n",
       "197426  L00000049209756    TS995853  2019-03-31\n",
       "197427  L00000049209757    TS999079  2019-03-31\n",
       "\n",
       "[197428 rows x 3 columns]"
      ]
     },
     "execution_count": 74,
     "metadata": {},
     "output_type": "execute_result"
    }
   ],
   "source": [
    "use_log"
   ]
  },
  {
   "cell_type": "code",
   "execution_count": 75,
   "metadata": {},
   "outputs": [],
   "source": [
    "def read_df(_path, _encoding='utf-8'):\n",
    "    head, tail = os.path.splitext(_path)\n",
    "    if tail == '.csv':\n",
    "        df = pd.read_csv(_path, encoding=_encoding)\n",
    "    elif tail == '.json':\n",
    "        df = pd.read_json(_path, encoding=_encoding)\n",
    "    elif tail == '.xml':\n",
    "        df = pd.read_xml(_path, encoding=_encoding)\n",
    "    elif tail in ['.xlsx', '.xls']:\n",
    "        df = pd.read_excel(_path)\n",
    "    else:\n",
    "        df = pd.DataFrame()\n",
    "    return df"
   ]
  },
  {
   "cell_type": "code",
   "execution_count": 76,
   "metadata": {},
   "outputs": [
    {
     "data": {
      "text/html": [
       "<div>\n",
       "<style scoped>\n",
       "    .dataframe tbody tr th:only-of-type {\n",
       "        vertical-align: middle;\n",
       "    }\n",
       "\n",
       "    .dataframe tbody tr th {\n",
       "        vertical-align: top;\n",
       "    }\n",
       "\n",
       "    .dataframe thead th {\n",
       "        text-align: right;\n",
       "    }\n",
       "</style>\n",
       "<table border=\"1\" class=\"dataframe\">\n",
       "  <thead>\n",
       "    <tr style=\"text-align: right;\">\n",
       "      <th></th>\n",
       "      <th>구분</th>\n",
       "      <th>사고(건)</th>\n",
       "      <th>사망(명)</th>\n",
       "      <th>부상(명)</th>\n",
       "    </tr>\n",
       "  </thead>\n",
       "  <tbody>\n",
       "    <tr>\n",
       "      <th>0</th>\n",
       "      <td>2014년1월</td>\n",
       "      <td>169</td>\n",
       "      <td>7</td>\n",
       "      <td>347</td>\n",
       "    </tr>\n",
       "    <tr>\n",
       "      <th>1</th>\n",
       "      <td>2014년2월</td>\n",
       "      <td>145</td>\n",
       "      <td>3</td>\n",
       "      <td>268</td>\n",
       "    </tr>\n",
       "    <tr>\n",
       "      <th>2</th>\n",
       "      <td>2014년3월</td>\n",
       "      <td>206</td>\n",
       "      <td>12</td>\n",
       "      <td>358</td>\n",
       "    </tr>\n",
       "    <tr>\n",
       "      <th>3</th>\n",
       "      <td>2014년4월</td>\n",
       "      <td>182</td>\n",
       "      <td>4</td>\n",
       "      <td>360</td>\n",
       "    </tr>\n",
       "    <tr>\n",
       "      <th>4</th>\n",
       "      <td>2014년5월</td>\n",
       "      <td>218</td>\n",
       "      <td>17</td>\n",
       "      <td>474</td>\n",
       "    </tr>\n",
       "    <tr>\n",
       "      <th>5</th>\n",
       "      <td>2014년6월</td>\n",
       "      <td>233</td>\n",
       "      <td>13</td>\n",
       "      <td>457</td>\n",
       "    </tr>\n",
       "    <tr>\n",
       "      <th>6</th>\n",
       "      <td>2014년7월</td>\n",
       "      <td>229</td>\n",
       "      <td>14</td>\n",
       "      <td>431</td>\n",
       "    </tr>\n",
       "    <tr>\n",
       "      <th>7</th>\n",
       "      <td>2014년8월</td>\n",
       "      <td>222</td>\n",
       "      <td>9</td>\n",
       "      <td>447</td>\n",
       "    </tr>\n",
       "    <tr>\n",
       "      <th>8</th>\n",
       "      <td>2014년9월</td>\n",
       "      <td>225</td>\n",
       "      <td>15</td>\n",
       "      <td>430</td>\n",
       "    </tr>\n",
       "    <tr>\n",
       "      <th>9</th>\n",
       "      <td>2014년10월</td>\n",
       "      <td>210</td>\n",
       "      <td>14</td>\n",
       "      <td>392</td>\n",
       "    </tr>\n",
       "    <tr>\n",
       "      <th>10</th>\n",
       "      <td>2014년11월</td>\n",
       "      <td>209</td>\n",
       "      <td>10</td>\n",
       "      <td>386</td>\n",
       "    </tr>\n",
       "    <tr>\n",
       "      <th>11</th>\n",
       "      <td>2014년12월</td>\n",
       "      <td>178</td>\n",
       "      <td>12</td>\n",
       "      <td>329</td>\n",
       "    </tr>\n",
       "  </tbody>\n",
       "</table>\n",
       "</div>"
      ],
      "text/plain": [
       "          구분  사고(건)  사망(명)  부상(명)\n",
       "0    2014년1월    169      7    347\n",
       "1    2014년2월    145      3    268\n",
       "2    2014년3월    206     12    358\n",
       "3    2014년4월    182      4    360\n",
       "4    2014년5월    218     17    474\n",
       "5    2014년6월    233     13    457\n",
       "6    2014년7월    229     14    431\n",
       "7    2014년8월    222      9    447\n",
       "8    2014년9월    225     15    430\n",
       "9   2014년10월    210     14    392\n",
       "10  2014년11월    209     10    386\n",
       "11  2014년12월    178     12    329"
      ]
     },
     "execution_count": 76,
     "metadata": {},
     "output_type": "execute_result"
    }
   ],
   "source": [
    "read_df('../../../../바탕 화면/Data/csv/2014.csv','cp949')"
   ]
  }
 ],
 "metadata": {
  "kernelspec": {
   "display_name": "Python 3",
   "language": "python",
   "name": "python3"
  },
  "language_info": {
   "codemirror_mode": {
    "name": "ipython",
    "version": 3
   },
   "file_extension": ".py",
   "mimetype": "text/x-python",
   "name": "python",
   "nbconvert_exporter": "python",
   "pygments_lexer": "ipython3",
   "version": "3.12.2"
  }
 },
 "nbformat": 4,
 "nbformat_minor": 2
}
