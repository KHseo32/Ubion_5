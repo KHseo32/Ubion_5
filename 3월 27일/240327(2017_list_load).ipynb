{
 "cells": [
  {
   "cell_type": "markdown",
   "metadata": {},
   "source": [
    "## 특정 경로에 있는 파일의 목록 로드\n",
    "1. ㅇ리"
   ]
  },
  {
   "cell_type": "code",
   "execution_count": 1,
   "metadata": {},
   "outputs": [],
   "source": [
    "import os\n",
    "import glob\n",
    "import pandas as pd"
   ]
  },
  {
   "cell_type": "code",
   "execution_count": 2,
   "metadata": {},
   "outputs": [
    {
     "data": {
      "text/plain": [
       "['201701_expense_list.csv',\n",
       " '201702_expense_list.csv',\n",
       " '201703_expense_list.csv',\n",
       " '201704_expense_list.csv',\n",
       " '201705_expense_list.csv',\n",
       " '201706_expense_list.csv',\n",
       " '201707_expense_list.csv',\n",
       " '201708_expense_list.csv',\n",
       " '201709_expense_list.csv',\n",
       " '201710_expense_list.csv',\n",
       " '201711_expense_list.csv',\n",
       " '201712_expense_list.csv']"
      ]
     },
     "execution_count": 2,
     "metadata": {},
     "output_type": "execute_result"
    }
   ],
   "source": [
    "# os 라이브러리 이용\n",
    "os.listdir('../../../../바탕 화면/Data/csv/2017')"
   ]
  },
  {
   "cell_type": "code",
   "execution_count": 3,
   "metadata": {},
   "outputs": [],
   "source": [
    "# 파일 목록 로드 경로 변수 저장\n",
    "\n",
    "file_path = '../../../../바탕 화면/Data/csv/2017/'\n",
    "file_list = os.listdir('../../../../바탕 화면/Data/csv/2017')\n",
    "# file_list"
   ]
  },
  {
   "cell_type": "code",
   "execution_count": 4,
   "metadata": {},
   "outputs": [],
   "source": [
    "\n",
    "result_2017 = pd.DataFrame()\n",
    "\n"
   ]
  },
  {
   "cell_type": "code",
   "execution_count": 5,
   "metadata": {},
   "outputs": [],
   "source": [
    "for file in file_list:\n",
    "    df = pd.read_csv(file_path+file)\n",
    "    result_2017 = pd.concat([result_2017,df], axis=0, ignore_index=True)"
   ]
  },
  {
   "cell_type": "code",
   "execution_count": 6,
   "metadata": {},
   "outputs": [],
   "source": [
    "file_path2 = '../../../../바탕 화면/Data/csv/2019/'\n",
    "file_list2 = os.listdir('../../../../바탕 화면/Data/csv/2019')"
   ]
  },
  {
   "cell_type": "code",
   "execution_count": 7,
   "metadata": {},
   "outputs": [],
   "source": [
    "result_2019 = pd.DataFrame()"
   ]
  },
  {
   "cell_type": "code",
   "execution_count": 8,
   "metadata": {},
   "outputs": [],
   "source": [
    "for file in file_list2:\n",
    "    df2 = pd.read_json(file_path2+file)\n",
    "    result_2019 = pd.concat([result_2019,df2], axis=0, ignore_index=True)"
   ]
  },
  {
   "cell_type": "code",
   "execution_count": 9,
   "metadata": {},
   "outputs": [],
   "source": [
    "file_path3 = '../../../../바탕 화면/Data/csv/2020/'\n",
    "file_list3 = os.listdir('../../../../바탕 화면/Data/csv/2020')"
   ]
  },
  {
   "cell_type": "code",
   "execution_count": 13,
   "metadata": {},
   "outputs": [],
   "source": [
    "result_2020 = pd.DataFrame()"
   ]
  },
  {
   "cell_type": "code",
   "execution_count": 14,
   "metadata": {},
   "outputs": [],
   "source": [
    "for file in file_list3:\n",
    "    df3 = pd.read_excel(file_path3+file)\n",
    "    result_2020 = pd.concat([result_2020,df3], axis=0, ignore_index=True)"
   ]
  },
  {
   "cell_type": "code",
   "execution_count": 16,
   "metadata": {},
   "outputs": [],
   "source": [
    "file_path4 = '../../../../바탕 화면/Data/csv/2021/'\n",
    "file_list4 = os.listdir('../../../../바탕 화면/Data/csv/2021')"
   ]
  },
  {
   "cell_type": "code",
   "execution_count": 17,
   "metadata": {},
   "outputs": [],
   "source": [
    "result_2021 = pd.DataFrame()"
   ]
  },
  {
   "cell_type": "code",
   "execution_count": 21,
   "metadata": {},
   "outputs": [
    {
     "name": "stdout",
     "output_type": "stream",
     "text": [
      "Collecting lxmlNote: you may need to restart the kernel to use updated packages.\n",
      "\n",
      "  Downloading lxml-5.1.0-cp312-cp312-win_amd64.whl.metadata (3.6 kB)\n",
      "Downloading lxml-5.1.0-cp312-cp312-win_amd64.whl (3.9 MB)\n",
      "   ---------------------------------------- 0.0/3.9 MB ? eta -:--:--\n",
      "   ---------------------------------------- 0.0/3.9 MB 1.9 MB/s eta 0:00:03\n",
      "   -------- ------------------------------- 0.8/3.9 MB 13.2 MB/s eta 0:00:01\n",
      "   ---------------------- ----------------- 2.2/3.9 MB 23.1 MB/s eta 0:00:01\n",
      "   ---------------------------------------  3.9/3.9 MB 31.1 MB/s eta 0:00:01\n",
      "   ---------------------------------------- 3.9/3.9 MB 27.7 MB/s eta 0:00:00\n",
      "Installing collected packages: lxml\n",
      "Successfully installed lxml-5.1.0\n"
     ]
    }
   ],
   "source": [
    "pip install lxml"
   ]
  },
  {
   "cell_type": "code",
   "execution_count": 22,
   "metadata": {},
   "outputs": [],
   "source": [
    "import lxml"
   ]
  },
  {
   "cell_type": "code",
   "execution_count": 40,
   "metadata": {},
   "outputs": [],
   "source": [
    "for file in file_list4:\n",
    "    if file.endswith('.xlsx'):\n",
    "        df = pd.read_excel(file_path4+file)\n",
    "        result_2021 = pd.concat([result_2021,df], axis=0, ignore_index=True)\n",
    "    elif file.endswith('.csv'):\n",
    "        df = pd.read_csv(file_path4+file)\n",
    "        result_2021 = pd.concat([result_2021,df], axis=0, ignore_index=True)\n",
    "    elif file.endswith('.json'):\n",
    "        df = pd.read_json(file_path4+file)\n",
    "        result_2021 = pd.concat([result_2021,df], axis=0, ignore_index=True)\n",
    "    elif file.endswith('.xml'):\n",
    "        df = pd.read_xml(file_path4+file)\n",
    "        result_2021 = pd.concat([result_2021,df], axis=0, ignore_index=True)\n",
    "          \n"
   ]
  },
  {
   "cell_type": "code",
   "execution_count": 41,
   "metadata": {},
   "outputs": [
    {
     "name": "stdout",
     "output_type": "stream",
     "text": [
      "<class 'pandas.core.frame.DataFrame'>\n",
      "RangeIndex: 769005 entries, 0 to 769004\n",
      "Data columns (total 21 columns):\n",
      " #   Column             Non-Null Count   Dtype  \n",
      "---  ------             --------------   -----  \n",
      " 0   nid                769005 non-null  int64  \n",
      " 1   title              769005 non-null  object \n",
      " 2   url                769005 non-null  object \n",
      " 3   dept_nm_lvl_1      769005 non-null  object \n",
      " 4   dept_nm_lvl_2      769005 non-null  object \n",
      " 5   dept_nm_lvl_3      656034 non-null  object \n",
      " 6   dept_nm_lvl_4      349263 non-null  object \n",
      " 7   dept_nm_lvl_5      183099 non-null  object \n",
      " 8   exec_yr            769005 non-null  int64  \n",
      " 9   exec_month         769005 non-null  int64  \n",
      " 10  expense_budget     544716 non-null  float64\n",
      " 11  expense_execution  544716 non-null  float64\n",
      " 12  category           179514 non-null  object \n",
      " 13  dept_nm_full       769005 non-null  object \n",
      " 14  exec_dt            769005 non-null  object \n",
      " 15  exec_loc           764477 non-null  object \n",
      " 16  exec_purpose       769005 non-null  object \n",
      " 17  target_nm          766513 non-null  object \n",
      " 18  payment_method     769005 non-null  object \n",
      " 19  exec_amount        769005 non-null  int64  \n",
      " 20  bimok              168982 non-null  object \n",
      "dtypes: float64(2), int64(4), object(15)\n",
      "memory usage: 123.2+ MB\n"
     ]
    }
   ],
   "source": [
    "result_2021.info()"
   ]
  },
  {
   "cell_type": "code",
   "execution_count": 33,
   "metadata": {},
   "outputs": [
    {
     "data": {
      "text/plain": [
       "'csv'"
      ]
     },
     "execution_count": 33,
     "metadata": {},
     "output_type": "execute_result"
    }
   ],
   "source": [
    "file_list4[0].split('.')[-1]"
   ]
  },
  {
   "cell_type": "code",
   "execution_count": 36,
   "metadata": {},
   "outputs": [],
   "source": [
    "file_name, file_end = os.path.splitext(file_list4[0])"
   ]
  },
  {
   "cell_type": "code",
   "execution_count": 37,
   "metadata": {},
   "outputs": [],
   "source": [
    "result2_2021 = pd.DataFrame()\n",
    "\n",
    "## 확장자 선택 후 해당 확장자만 result2_2021에 결합\n",
    "for file in file_list4:\n",
    "    if file.split('.')[-1] in ['xlsx', 'xls']:\n",
    "        df = pd.read_excel(file_path4+file)\n",
    "        result2_2021 = pd.concat([result2_2021,df], axis=0, ignore_index=True)"
   ]
  },
  {
   "cell_type": "code",
   "execution_count": 38,
   "metadata": {},
   "outputs": [
    {
     "name": "stdout",
     "output_type": "stream",
     "text": [
      "<class 'pandas.core.frame.DataFrame'>\n",
      "RangeIndex: 83819 entries, 0 to 83818\n",
      "Data columns (total 21 columns):\n",
      " #   Column             Non-Null Count  Dtype  \n",
      "---  ------             --------------  -----  \n",
      " 0   nid                83819 non-null  int64  \n",
      " 1   title              83819 non-null  object \n",
      " 2   url                83819 non-null  object \n",
      " 3   dept_nm_lvl_1      83819 non-null  object \n",
      " 4   dept_nm_lvl_2      83819 non-null  object \n",
      " 5   dept_nm_lvl_3      67930 non-null  object \n",
      " 6   dept_nm_lvl_4      24831 non-null  object \n",
      " 7   dept_nm_lvl_5      1473 non-null   object \n",
      " 8   exec_yr            83819 non-null  int64  \n",
      " 9   exec_month         83819 non-null  int64  \n",
      " 10  expense_budget     60524 non-null  float64\n",
      " 11  expense_execution  60524 non-null  float64\n",
      " 12  category           980 non-null    object \n",
      " 13  dept_nm_full       83819 non-null  object \n",
      " 14  exec_dt            83819 non-null  object \n",
      " 15  exec_loc           83185 non-null  object \n",
      " 16  exec_purpose       83819 non-null  object \n",
      " 17  target_nm          83467 non-null  object \n",
      " 18  payment_method     83819 non-null  object \n",
      " 19  exec_amount        83819 non-null  int64  \n",
      " 20  bimok              18427 non-null  object \n",
      "dtypes: float64(2), int64(4), object(15)\n",
      "memory usage: 13.4+ MB\n"
     ]
    }
   ],
   "source": [
    "result2_2021.info()"
   ]
  }
 ],
 "metadata": {
  "kernelspec": {
   "display_name": "Python 3",
   "language": "python",
   "name": "python3"
  },
  "language_info": {
   "codemirror_mode": {
    "name": "ipython",
    "version": 3
   },
   "file_extension": ".py",
   "mimetype": "text/x-python",
   "name": "python",
   "nbconvert_exporter": "python",
   "pygments_lexer": "ipython3",
   "version": "3.12.2"
  }
 },
 "nbformat": 4,
 "nbformat_minor": 2
}
