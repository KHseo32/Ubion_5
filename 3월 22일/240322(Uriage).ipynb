{
 "cells": [
  {
   "cell_type": "code",
   "execution_count": 16,
   "metadata": {},
   "outputs": [],
   "source": [
    "import pandas as pd"
   ]
  },
  {
   "cell_type": "code",
   "execution_count": 17,
   "metadata": {},
   "outputs": [],
   "source": [
    "df = pd.read_csv('../../../../바탕 화면/Data/csv/Uriage.csv')"
   ]
  },
  {
   "cell_type": "code",
   "execution_count": 18,
   "metadata": {},
   "outputs": [
    {
     "data": {
      "text/html": [
       "<div>\n",
       "<style scoped>\n",
       "    .dataframe tbody tr th:only-of-type {\n",
       "        vertical-align: middle;\n",
       "    }\n",
       "\n",
       "    .dataframe tbody tr th {\n",
       "        vertical-align: top;\n",
       "    }\n",
       "\n",
       "    .dataframe thead th {\n",
       "        text-align: right;\n",
       "    }\n",
       "</style>\n",
       "<table border=\"1\" class=\"dataframe\">\n",
       "  <thead>\n",
       "    <tr style=\"text-align: right;\">\n",
       "      <th></th>\n",
       "      <th>purchase_date</th>\n",
       "      <th>item_name</th>\n",
       "      <th>item_price</th>\n",
       "      <th>customer_name</th>\n",
       "    </tr>\n",
       "  </thead>\n",
       "  <tbody>\n",
       "    <tr>\n",
       "      <th>0</th>\n",
       "      <td>2019-06-13 18:02</td>\n",
       "      <td>상품A</td>\n",
       "      <td>100.0</td>\n",
       "      <td>김가온</td>\n",
       "    </tr>\n",
       "    <tr>\n",
       "      <th>1</th>\n",
       "      <td>2019-07-13 13:05</td>\n",
       "      <td>상 품 S</td>\n",
       "      <td>NaN</td>\n",
       "      <td>김우찬</td>\n",
       "    </tr>\n",
       "    <tr>\n",
       "      <th>2</th>\n",
       "      <td>2019-05-11 19:42</td>\n",
       "      <td>상 품 a</td>\n",
       "      <td>NaN</td>\n",
       "      <td>김유찬</td>\n",
       "    </tr>\n",
       "    <tr>\n",
       "      <th>3</th>\n",
       "      <td>2019-02-12 23:40</td>\n",
       "      <td>상품Z</td>\n",
       "      <td>2600.0</td>\n",
       "      <td>김재현</td>\n",
       "    </tr>\n",
       "    <tr>\n",
       "      <th>4</th>\n",
       "      <td>2019-04-22 3:09</td>\n",
       "      <td>상품a</td>\n",
       "      <td>NaN</td>\n",
       "      <td>김강현</td>\n",
       "    </tr>\n",
       "  </tbody>\n",
       "</table>\n",
       "</div>"
      ],
      "text/plain": [
       "      purchase_date item_name  item_price customer_name\n",
       "0  2019-06-13 18:02       상품A       100.0           김가온\n",
       "1  2019-07-13 13:05     상 품 S         NaN           김우찬\n",
       "2  2019-05-11 19:42     상 품 a         NaN           김유찬\n",
       "3  2019-02-12 23:40       상품Z      2600.0           김재현\n",
       "4   2019-04-22 3:09       상품a         NaN           김강현"
      ]
     },
     "execution_count": 18,
     "metadata": {},
     "output_type": "execute_result"
    }
   ],
   "source": [
    "df.head()\n",
    "\n",
    "## 정형화 작업 필요"
   ]
  },
  {
   "cell_type": "markdown",
   "metadata": {},
   "source": [
    "#### uriage 데이터의 문제점\n",
    "1. item_name 대/소문자 문제\n",
    "    - 대/소문자 통일\n",
    "    - upper(), lower()\n",
    "2. item_name 공백 존재\n",
    "    - 공백 제거\n",
    "    - strip(), replace()\n",
    "3. 결측치"
   ]
  },
  {
   "cell_type": "code",
   "execution_count": 19,
   "metadata": {},
   "outputs": [],
   "source": [
    "## item_name 문자를 모두 대문자로 변환\n",
    "df2=df.copy()"
   ]
  },
  {
   "cell_type": "code",
   "execution_count": 22,
   "metadata": {},
   "outputs": [],
   "source": [
    "## case1(반복문)\n",
    "for i in range(len(df2)):\n",
    "    df2.loc[i, 'item_name'] = df2.loc[i, 'item_name'].upper()\n"
   ]
  },
  {
   "cell_type": "code",
   "execution_count": 23,
   "metadata": {},
   "outputs": [
    {
     "data": {
      "text/html": [
       "<div>\n",
       "<style scoped>\n",
       "    .dataframe tbody tr th:only-of-type {\n",
       "        vertical-align: middle;\n",
       "    }\n",
       "\n",
       "    .dataframe tbody tr th {\n",
       "        vertical-align: top;\n",
       "    }\n",
       "\n",
       "    .dataframe thead th {\n",
       "        text-align: right;\n",
       "    }\n",
       "</style>\n",
       "<table border=\"1\" class=\"dataframe\">\n",
       "  <thead>\n",
       "    <tr style=\"text-align: right;\">\n",
       "      <th></th>\n",
       "      <th>purchase_date</th>\n",
       "      <th>item_name</th>\n",
       "      <th>item_price</th>\n",
       "      <th>customer_name</th>\n",
       "    </tr>\n",
       "  </thead>\n",
       "  <tbody>\n",
       "    <tr>\n",
       "      <th>0</th>\n",
       "      <td>2019-06-13 18:02</td>\n",
       "      <td>상품A</td>\n",
       "      <td>100.0</td>\n",
       "      <td>김가온</td>\n",
       "    </tr>\n",
       "    <tr>\n",
       "      <th>1</th>\n",
       "      <td>2019-07-13 13:05</td>\n",
       "      <td>상 품 S</td>\n",
       "      <td>NaN</td>\n",
       "      <td>김우찬</td>\n",
       "    </tr>\n",
       "    <tr>\n",
       "      <th>2</th>\n",
       "      <td>2019-05-11 19:42</td>\n",
       "      <td>상 품 A</td>\n",
       "      <td>NaN</td>\n",
       "      <td>김유찬</td>\n",
       "    </tr>\n",
       "  </tbody>\n",
       "</table>\n",
       "</div>"
      ],
      "text/plain": [
       "      purchase_date item_name  item_price customer_name\n",
       "0  2019-06-13 18:02       상품A       100.0           김가온\n",
       "1  2019-07-13 13:05     상 품 S         NaN           김우찬\n",
       "2  2019-05-11 19:42     상 품 A         NaN           김유찬"
      ]
     },
     "execution_count": 23,
     "metadata": {},
     "output_type": "execute_result"
    }
   ],
   "source": [
    "\n",
    "df2.head(3)\n"
   ]
  },
  {
   "cell_type": "code",
   "execution_count": 25,
   "metadata": {},
   "outputs": [
    {
     "data": {
      "text/plain": [
       "[3, 4, 5, 6]"
      ]
     },
     "execution_count": 25,
     "metadata": {},
     "output_type": "execute_result"
    }
   ],
   "source": [
    "# case2(map()함수 -> 1차원 자료형 데이터의 각 데이터 1 개씩 추출 후 작업)\n",
    "## Base(python) : map(함수, 1차원 리스트명)\n",
    "_list = [1,2,3,4]\n",
    "# map(), lambda 결합\n",
    "list((map(\n",
    "    lambda x : x+1,\n",
    "    _list\n",
    ")\n",
    ")\n",
    "\n",
    ")\n",
    "# map(), 일반 함수 결합\n",
    "def change(x):\n",
    "    return x+2\n",
    "list(\n",
    "    map(\n",
    "        change,\n",
    "        _list\n",
    "    )\n",
    ")"
   ]
  },
  {
   "cell_type": "markdown",
   "metadata": {},
   "source": [
    "#### lambda 함수\n",
    "- 선언과 동시에 호출\n",
    "    - lamda 매개변수명 : 실행이 될 코드\n",
    "- 일반함수로 사용하기에 너무 간단한 작업에 사용"
   ]
  }
 ],
 "metadata": {
  "kernelspec": {
   "display_name": "Python 3",
   "language": "python",
   "name": "python3"
  },
  "language_info": {
   "codemirror_mode": {
    "name": "ipython",
    "version": 3
   },
   "file_extension": ".py",
   "mimetype": "text/x-python",
   "name": "python",
   "nbconvert_exporter": "python",
   "pygments_lexer": "ipython3",
   "version": "3.12.2"
  }
 },
 "nbformat": 4,
 "nbformat_minor": 2
}
